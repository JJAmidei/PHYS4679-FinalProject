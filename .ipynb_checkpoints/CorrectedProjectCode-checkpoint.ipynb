{
 "cells": [
  {
   "cell_type": "markdown",
   "id": "54bc374d-d004-4b5a-af3a-42a2a7f95bb9",
   "metadata": {},
   "source": [
    "# Corrected Code for Project\n",
    "\n",
    "I'll include a short write up on this code. I basically realized that I was incredibly wrong about how I was going about this. "
   ]
  },
  {
   "cell_type": "code",
   "execution_count": 2,
   "id": "65036cac-1316-4e3d-813e-822b7820fa09",
   "metadata": {},
   "outputs": [],
   "source": [
    "import numpy as np\n",
    "import matplotlib.pyplot as plt \n",
    "from copy import deepcopy\n",
    "from qiskit import QuantumCircuit, transpile\n",
    "import qiskit_aer as aer\n",
    "from qiskit.visualization import plot_histogram\n",
    "from qiskit.result import Counts\n",
    "from scipy.optimize import minimize"
   ]
  },
  {
   "cell_type": "code",
   "execution_count": 3,
   "id": "a9b652b5-0527-45f6-aadf-7a6b7792ffb6",
   "metadata": {},
   "outputs": [],
   "source": [
    "M = 5 # lattice sites \n",
    "t = 1.0 # hopping energy\n",
    "U = 0.1 # Coulomb energy\n",
    "Nu = 3 # num spin-up electrons \n",
    "Nd = 3 # num spin-down electrons \n",
    "S = 3 # num Trotter-Suzuki steps \n",
    "theta = np.random.rand(S,5) # randomized variational parameters\n",
    "num_qubits = 2*M "
   ]
  },
  {
   "cell_type": "code",
   "execution_count": 4,
   "id": "42c445d4-039f-495d-b74c-9ac2743b824f",
   "metadata": {},
   "outputs": [],
   "source": [
    "empty_circuit = QuantumCircuit(num_qubits)"
   ]
  },
  {
   "cell_type": "code",
   "execution_count": 5,
   "id": "c8251b0c-6616-4d47-bc1a-25bf7958b7be",
   "metadata": {},
   "outputs": [],
   "source": [
    "# prepares circuit the same as first attempt \n",
    "def initial_circuit(circuit, M, Nu, Nd):\n",
    "    for i in range(Nu):\n",
    "        circuit.x(i) \n",
    "    for i in range(Nd): \n",
    "        circuit.x(M+i)\n",
    "    return circuit\n",
    "\n",
    "def ansatz_circuit(circuit, M, S, theta): \n",
    "    theta[:, :4] = -t/2.0*theta[:, :4]\n",
    "    theta[:, 4] = U*theta[:, 4]\n",
    "    for j in range(S):\n",
    "        for parity in [0]:\n",
    "            for i in range(M-1):\n",
    "                if i%2 == parity:\n",
    "                    for spin_index in [0, M]: \n",
    "                        circuit.cx(spin_index+i, spin_index+i+1)\n",
    "                        circuit.rx(theta[j, 2*parity+0], spin_index+i)    # theta_j,xe(o)\n",
    "                        circuit.h(spin_index+i+1)\n",
    "                        circuit.cx(spin_index+i+1, spin_index+i)\n",
    "                        circuit.rx(-theta[j, 2*parity+1], spin_index+i+1) # theta_j,ye(o)\n",
    "                        circuit.cx(spin_index+i+1, spin_index+i)\n",
    "                        circuit.h(spin_index+i+1)\n",
    "                        circuit.cx(spin_index+i, spin_index+i+1) \n",
    "        circuit.barrier()\n",
    "        for i in range(M):\n",
    "            circuit.crz(theta[j, 4], i, M+i)\n",
    "    return circuit\n",
    "\n",
    "def measurement_circuit(circuit, M, term):\n",
    "    if term == \"xe\": \n",
    "        for i in range(M-1):\n",
    "            circuit.x(i)\n",
    "            circuit.x(M+i)\n",
    "    elif term == \"xo\": \n",
    "        for i in range(M-1):\n",
    "            circuit.x(i+1)\n",
    "            circuit.x(M+i+1)\n",
    "    elif term == \"ye\": \n",
    "        for i in range(M-1):\n",
    "            circuit.y(i)\n",
    "            circuit.y(M+i)\n",
    "    elif term == \"yo\": \n",
    "        for i in range(M-1):\n",
    "            circuit.y(i+1)\n",
    "            circuit.y(M+i+1)\n",
    "    else:\n",
    "        pass\n",
    "    return circuit "
   ]
  },
  {
   "cell_type": "code",
   "execution_count": 6,
   "id": "10553499-33e4-43c5-9842-64c422ff5c2c",
   "metadata": {},
   "outputs": [],
   "source": [
    "initial_circ = initial_circuit(deepcopy(empty_circuit), M, Nu, Nd) # prepares initial circuit wavefunction. "
   ]
  },
  {
   "cell_type": "code",
   "execution_count": 7,
   "id": "be015e34-13fd-4d6a-b5d9-f5a2b3ba81a0",
   "metadata": {},
   "outputs": [],
   "source": [
    "#initial_circ.draw('mpl', fold=1)\n",
    "#initial_circ.draw('mpl', fold=1).savefig('Pictures/initial_circuit_from_corrected.pdf', dpi=2000, bbox_inches='tight')"
   ]
  },
  {
   "cell_type": "code",
   "execution_count": 8,
   "id": "d9d51a48-7e67-4f5f-b6cd-ced91ed3db3f",
   "metadata": {},
   "outputs": [],
   "source": [
    "ansatz_circ = ansatz_circuit(deepcopy(empty_circuit), M, S, theta) # ansatz wavefunction"
   ]
  },
  {
   "cell_type": "code",
   "execution_count": 9,
   "id": "17f47b21-90f1-4041-837a-2e78cb0d4e5e",
   "metadata": {},
   "outputs": [],
   "source": [
    "#ansatz_circ.draw('mpl', fold=20)\n",
    "#ansatz_circ.draw('mpl', fold=20).savefig('Pictures/ansatz_circuit_from_corrected.pdf', dpi=2000, bbox_inches='tight')"
   ]
  },
  {
   "cell_type": "code",
   "execution_count": 10,
   "id": "3ce53f04-4a08-40c8-a8dc-982b01e07388",
   "metadata": {},
   "outputs": [],
   "source": [
    "measurement_circ_xe = measurement_circuit(deepcopy(empty_circuit), M, \"xe\") # measures only x even terms\n",
    "measurement_circ_xo = measurement_circuit(deepcopy(empty_circuit), M, \"xo\") # measures only x odd terms\n",
    "measurement_circ_ye = measurement_circuit(deepcopy(empty_circuit), M, \"ye\") # measures only y even terms\n",
    "measurement_circ_yo = measurement_circuit(deepcopy(empty_circuit), M, \"yo\") # measures only y odd terms"
   ]
  },
  {
   "cell_type": "code",
   "execution_count": 11,
   "id": "8317ac71-3c0e-4c87-9135-6fa5e3ff5c1b",
   "metadata": {},
   "outputs": [],
   "source": [
    "#measurement_circ_xe.draw('mpl', fold=1)\n",
    "#measurement_circ_xe.draw('mpl', fold=1).savefig('Pictures/measurement_circuit_xe.pdf', dpi=2000, bbox_inches='tight')\n",
    "#measurement_circ_xo.draw('mpl', fold=1)\n",
    "#measurement_circ_xo.draw('mpl', fold=1).savefig('Pictures/measurement_circuit_xo.pdf', dpi=2000, bbox_inches='tight')\n",
    "#measurement_circ_ye.draw('mpl', fold=1)\n",
    "#measurement_circ_ye.draw('mpl', fold=1).savefig('Pictures/measurement_circuit_ye.pdf', dpi=2000, bbox_inches='tight')\n",
    "#measurement_circ_yo.draw('mpl', fold=1)\n",
    "#measurement_circ_yo.draw('mpl', fold=1).savefig('Pictures/measurement_circuit_yo.pdf', dpi=2000, bbox_inches='tight')"
   ]
  },
  {
   "cell_type": "code",
   "execution_count": 12,
   "id": "68de380f-688b-48a5-8a87-782bbd10c35d",
   "metadata": {},
   "outputs": [],
   "source": [
    "circ_complete_xe = initial_circ.compose(ansatz_circ).compose(measurement_circ_xe)\n",
    "circ_complete_xo = initial_circ.compose(ansatz_circ).compose(measurement_circ_xo)\n",
    "circ_complete_ye = initial_circ.compose(ansatz_circ).compose(measurement_circ_ye)\n",
    "circ_complete_yo = initial_circ.compose(ansatz_circ).compose(measurement_circ_yo)"
   ]
  },
  {
   "cell_type": "code",
   "execution_count": 13,
   "id": "a40b2227-e9f3-4014-996a-dc49170366f0",
   "metadata": {},
   "outputs": [],
   "source": [
    "#circ_complete_xe.draw('mpl', fold=21)\n",
    "#circ_complete_xe.draw('mpl', fold=21).savefig('Pictures/complete_circuit_xe.pdf', dpi=2000, bbox_inches='tight')\n",
    "#circ_complete_xo.draw('mpl', fold=21)\n",
    "#circ_complete_xo.draw('mpl', fold=21).savefig('Pictures/complete_circuit_xo.pdf', dpi=2000, bbox_inches='tight')\n",
    "#circ_complete_ye.draw('mpl', fold=21)\n",
    "#circ_complete_ye.draw('mpl', fold=21).savefig('Pictures/complete_circuit_ye.pdf', dpi=2000, bbox_inches='tight')\n",
    "#circ_complete_yo.draw('mpl', fold=21)\n",
    "#circ_complete_yo.draw('mpl', fold=21).savefig('Pictures/complete_circuit_yo.pdf', dpi=2000, bbox_inches='tight')"
   ]
  },
  {
   "cell_type": "code",
   "execution_count": 14,
   "id": "4e4edde7-a9f5-40c0-8f38-50c2dcb2a94e",
   "metadata": {},
   "outputs": [],
   "source": [
    "# run text simulation\n",
    "terms = [\"xe\", \"xo\", \"ye\", \"yo\", \"z\"]\n",
    "results = {}\n",
    "simulator = aer.Aer.get_backend('aer_simulator')\n",
    "\n",
    "shots = 8192\n",
    "\n",
    "for term in terms:\n",
    "    initial_circ = initial_circuit(QuantumCircuit(num_qubits), M, Nu, Nd)\n",
    "    ansatz_circ = ansatz_circuit(QuantumCircuit(num_qubits), M, S, theta)\n",
    "    measure_circ = measurement_circuit(QuantumCircuit(num_qubits), M, term)\n",
    "\n",
    "    full_circ = initial_circ.compose(ansatz_circ).compose(measure_circ)\n",
    "    full_circ.measure_all()\n",
    "\n",
    "    transpiled = transpile(full_circ, simulator)\n",
    "    job = simulator.run(transpiled, shots=shots)\n",
    "    results[term] = job.result().get_counts()"
   ]
  },
  {
   "cell_type": "code",
   "execution_count": 27,
   "id": "59a31665-734f-4d3f-9b47-b7b28fbac3d2",
   "metadata": {},
   "outputs": [],
   "source": [
    "#plot_histogram(results['xe'])\n",
    "#plot_histogram(results['xe']).savefig('Pictures/xemeas.pdf', dpi=2000, bbox_inches='tight')\n",
    "#plot_histogram(results['xo'])\n",
    "#plot_histogram(results['xo']).savefig('Pictures/xomeas.pdf', dpi=2000, bbox_inches='tight')\n",
    "#plot_histogram(results['ye'])\n",
    "#plot_histogram(results['ye']).savefig('Pictures/yemeas.pdf', dpi=2000, bbox_inches='tight')\n",
    "#plot_histogram(results['yo'])\n",
    "#plot_histogram(results['yo']).savefig('Pictures/yomeas.pdf', dpi=2000, bbox_inches='tight')\n",
    "#plot_histogram(results['z'])\n",
    "#plot_histogram(results['z']).savefig('Pictures/zmeas.pdf', dpi=2000, bbox_inches='tight')"
   ]
  },
  {
   "cell_type": "code",
   "execution_count": 28,
   "id": "f05855e8-fe7e-4bc7-86ce-5384ffe2216a",
   "metadata": {},
   "outputs": [],
   "source": [
    "# gets expectation value from parity of bitstring\n",
    "def expectation_from_counts(counts: Counts, pauli_qubits: list[int], shots: int)->float:\n",
    "    expval = 0\n",
    "    for bitstring, count in counts.items():\n",
    "        bits = bitstring[::-1]  # bit order from little-endian to big-endian \n",
    "        parity = sum(int(bits[i]) for i in pauli_qubits)%2\n",
    "        sign = -1 if parity else 1\n",
    "        expval += sign*count\n",
    "    return expval/shots"
   ]
  },
  {
   "cell_type": "code",
   "execution_count": 29,
   "id": "6101c3ea-8725-4583-aeb2-eaed5671ae42",
   "metadata": {},
   "outputs": [],
   "source": [
    "# gets even and odd bit pairs for each term\n",
    "def get_term_qubit_pairs(term, M):\n",
    "    pairs = []\n",
    "    if term in [\"xe\", \"ye\"]:\n",
    "        indices = range(0, M - 1, 2)\n",
    "    elif term in [\"xo\", \"yo\"]:\n",
    "        indices = range(1, M - 1, 2)\n",
    "    elif term == \"z\":\n",
    "        return [(i, M+i) for i in range(M)]  # (up, down) pairs\n",
    "    else:\n",
    "        raise ValueError(\"unknown term\")\n",
    "\n",
    "    spin_offsets = [0, M]\n",
    "    for spin in spin_offsets:\n",
    "        for i in indices:\n",
    "            pairs.append((spin + i, spin + i + 1))\n",
    "    return pairs"
   ]
  },
  {
   "cell_type": "code",
   "execution_count": 30,
   "id": "04023b37-9209-410e-9eaf-a59ca85c7e72",
   "metadata": {},
   "outputs": [],
   "source": [
    "# runs full sim to get energy for one run\n",
    "energies = {}\n",
    "for term in terms:\n",
    "    counts = results[term]\n",
    "    qubit_pairs = get_term_qubit_pairs(term, M)\n",
    "    term_value = 0\n",
    "    for q1, q2 in qubit_pairs:\n",
    "        term_value += expectation_from_counts(counts, [q1, q2], shots)\n",
    "    \n",
    "    # hopping coeff from Hamiltonian\n",
    "    if term in [\"xe\", \"xo\", \"ye\", \"yo\"]:\n",
    "        term_value *= -t/4\n",
    "    elif term == \"z\":\n",
    "        # z terms\n",
    "        # (I - Z_up - Z_down + Z_up*Z_down) = 1 - z1 - z2 + z1*z2\n",
    "        z_value = 0\n",
    "        for q1, q2 in qubit_pairs:\n",
    "            exp1 = expectation_from_counts(counts, [q1], shots)\n",
    "            exp2 = expectation_from_counts(counts, [q2], shots)\n",
    "            exp12 = expectation_from_counts(counts, [q1, q2], shots)\n",
    "            z_value += (1 - exp1 - exp2 + exp12)\n",
    "        term_value = U/4*z_value\n",
    "    energies[term] = term_value\n"
   ]
  },
  {
   "cell_type": "code",
   "execution_count": 31,
   "id": "f0140197-2886-4ac0-9f7b-e6467d7c5a3f",
   "metadata": {},
   "outputs": [
    {
     "name": "stdout",
     "output_type": "stream",
     "text": [
      "Energy contributions: {'xe': -0.0, 'xo': -0.89593505859375, 'ye': -0.0, 'yo': -0.99444580078125, 'z': 0.299853515625}\n",
      "Total energy: -1.59052734375\n"
     ]
    }
   ],
   "source": [
    "# print energy and contributions from each terms in the Hamiltonian\n",
    "E_total = sum(energies.values())\n",
    "print(\"Energy contributions:\", energies)\n",
    "print(\"Total energy:\", E_total)"
   ]
  },
  {
   "cell_type": "code",
   "execution_count": 32,
   "id": "3d404dcb-1283-4600-b5ce-ac4daa96cfcc",
   "metadata": {},
   "outputs": [],
   "source": [
    "# VQE fuction that compiles circuit, runs sim, calls in functions to get bits, \n",
    "# calculated expectation value, and then energy. \n",
    "\n",
    "def vqe(theta_flat):\n",
    "    theta = theta_flat.reshape((S, 5))\n",
    "    results = {}\n",
    "\n",
    "    for term in terms:\n",
    "        initial_circ = initial_circuit(QuantumCircuit(num_qubits), M, Nu, Nd)\n",
    "        ansatz_circ = ansatz_circuit(QuantumCircuit(num_qubits), M, S, theta)\n",
    "        measure_circ = measurement_circuit(QuantumCircuit(num_qubits), M, term)\n",
    "\n",
    "        full_circ = initial_circ.compose(ansatz_circ).compose(measure_circ)\n",
    "        full_circ.measure_all()\n",
    "\n",
    "        transpiled = transpile(full_circ, simulator)\n",
    "        job = simulator.run(transpiled, shots=shots)\n",
    "        results[term] = job.result().get_counts()\n",
    "    \n",
    "    total_energy = 0\n",
    "    for term in terms:\n",
    "        counts = results[term]\n",
    "        qubit_pairs = get_term_qubit_pairs(term, M)\n",
    "        term_value = 0\n",
    "\n",
    "        if term in [\"xe\", \"xo\", \"ye\", \"yo\"]:\n",
    "            for q1, q2 in qubit_pairs:\n",
    "                term_value += expectation_from_counts(counts, [q1, q2], shots)\n",
    "            term_value *= -t/4\n",
    "        elif term == \"z\":\n",
    "            z_value = 0\n",
    "            for q1, q2 in qubit_pairs:\n",
    "                exp1 = expectation_from_counts(counts, [q1], shots)\n",
    "                exp2 = expectation_from_counts(counts, [q2], shots)\n",
    "                exp12 = expectation_from_counts(counts, [q1, q2], shots)\n",
    "                z_value += (1 - exp1 - exp2 + exp12)\n",
    "            term_value = (U/4)*z_value\n",
    "        \n",
    "        total_energy += term_value\n",
    "    \n",
    "    return total_energy\n"
   ]
  },
  {
   "cell_type": "code",
   "execution_count": 33,
   "id": "01f6d306-7ddb-4b62-bb55-5a14bc7d01c5",
   "metadata": {},
   "outputs": [
    {
     "name": "stdout",
     "output_type": "stream",
     "text": [
      "iteration 1/10\n",
      "iteration 2/10\n",
      "iteration 3/10\n",
      "iteration 4/10\n",
      "iteration 5/10\n",
      "iteration 6/10\n",
      "iteration 7/10\n",
      "iteration 8/10\n",
      "iteration 9/10\n",
      "iteration 10/10\n"
     ]
    }
   ],
   "source": [
    "# loop over VQE function\n",
    "n = 10\n",
    "ground_states = []\n",
    "theta_current = theta.copy()\n",
    "\n",
    "for i in range(n):\n",
    "    print(f'iteration {i+1}/{n}')\n",
    "    theta_flat = theta_current.flatten()\n",
    "    result = minimize(vqe, theta_flat, method='COBYLA')\n",
    "    ground_states.append(result.fun)\n",
    "    theta_current = result.x"
   ]
  },
  {
   "cell_type": "code",
   "execution_count": 45,
   "id": "5f2e0e1a-d888-4c35-a516-86753d9ffa8f",
   "metadata": {},
   "outputs": [
    {
     "name": "stdout",
     "output_type": "stream",
     "text": [
      "[-1.6998779296875, -1.6998779296875, -1.6998779296875, -1.7, -1.699755859375, -1.6996337890625, -1.7, -1.699755859375, -1.7, -1.699755859375]\n"
     ]
    }
   ],
   "source": [
    "# values from VQE loop\n",
    "print(ground_states)"
   ]
  },
  {
   "cell_type": "code",
   "execution_count": 58,
   "id": "fe0c55fb-023f-49d7-94cb-0b0de0932b60",
   "metadata": {},
   "outputs": [
    {
     "data": {
      "image/png": "[encoded data removed]",
      "text/plain": [
       "<Figure size 640x480 with 1 Axes>"
      ]
     },
     "metadata": {},
     "output_type": "display_data"
    }
   ],
   "source": [
    "# plot of values from VQE loop\n",
    "plt.plot(ground_states)\n",
    "plt.xlabel('Iterations')\n",
    "plt.ylabel('Measured Energy (Eh)')\n",
    "plt.ylim((-1.701, -1.699))\n",
    "plt.grid(True)\n",
    "#plt.savefig('Pictures/vqe_ground_state_energy.pdf', dpi=2000)\n",
    "plt.show()"
   ]
  },
  {
   "cell_type": "raw",
   "id": "3062df07-5b8f-485d-ae71-43cbaa6903a4",
   "metadata": {},
   "source": []
  },
  {
   "cell_type": "code",
   "execution_count": null,
   "id": "5913971b-7823-4963-bb7a-75b2094dd821",
   "metadata": {},
   "outputs": [],
   "source": []
  }
 ],
 "metadata": {
  "kernelspec": {
   "display_name": "Python [conda env:base] *",
   "language": "python",
   "name": "conda-base-py"
  },
  "language_info": {
   "codemirror_mode": {
    "name": "ipython",
    "version": 3
   },
   "file_extension": ".py",
   "mimetype": "text/x-python",
   "name": "python",
   "nbconvert_exporter": "python",
   "pygments_lexer": "ipython3",
   "version": "3.11.9"
  }
 },
 "nbformat": 4,
 "nbformat_minor": 5
}
