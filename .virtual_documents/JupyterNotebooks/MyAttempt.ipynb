import sympy as sp 
import numpy as np
sympy.init_printing()


t, E0, E, U = sp.symbols('t E0 E U')
expr = sp.Pow(2*t, 1/2, evaluate=False)


H = sp.Matrix([[2*E0, -sp.sqrt(2*t, evaluate=False), -sp.sqrt(2*t, evaluate=False)], 
            [-sp.sqrt(2*t, evaluate=False), 2*E0 + U, 0 ], 
            [-sp.sqrt(2*t, evaluate=False), 0, 2*E0 + U]])

print(sp.pretty(H))
print()
print(sp.pretty(H.eigenvals()))






