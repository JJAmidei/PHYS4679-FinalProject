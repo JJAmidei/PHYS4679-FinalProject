import sympy as sp 
import numpy as np
sp.init_printing()


t, E0, E, U = sp.symbols('t E0 E U')
expr = sp.Pow(2*t, 1/2, evaluate=False)


H = sp.Matrix([[2*E0, -sp.sqrt(2*t, evaluate=False), -sp.sqrt(2*t, evaluate=False)], 
            [-sp.sqrt(2*t, evaluate=False), 2*E0 + U, 0 ], 
            [-sp.sqrt(2*t, evaluate=False), 0, 2*E0 + U]])

print(sp.pretty(H))
print()
print(sp.pretty(H.eigenvals()))





import numpy as np
def energy(E0, U, t):
    return 2*E0 + 0.5*U - 0.5*np.sqrt(U**2 + 16*t)
E0 = 0.0
t = 1.0
U = 0.1
energy(0, 0.1, 1.0)






