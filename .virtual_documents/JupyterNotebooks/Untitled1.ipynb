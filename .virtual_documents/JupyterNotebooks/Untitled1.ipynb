molecule = Molecule( geometry=[ ["H", [0.0, 0.0,-dist / 2]], 
                               ["H", [0.0, 0.0, dist / 2]]], 
                    multiplicity=1, charge=0) 
driver = ElectronicStructureMoleculeDriver( molecule=molecule, basis="sto3g", 
                                           driver_type=ElectronicStructureDriverType.PYSCF) 
problem = ElectronicStructureProblem(driver, [electronic.FreezeCoreTransformer( freeze_core=True)])


mapper = JordanWignerMapper() 
converter = QubitConverter(mapper, two_qubit_reduction=False) 
qubit_op = converter.convert(hamiltonian)


init_state = HartreeFock(num_spin_orbitals, num_particles, converter) 
var_form = UCCSD( converter, num_particles, num_spin_orbitals, 
                 initial_state=init_state)


provider = IBMQ.enable_account(token) 
backend = least_busy( provider.backends( filters=lambda x: x.configuration().n_qubits >= 6 and not x.configuration().simulator and x.status().operational == True)) 
print("least busy backend: ", backend)


optimizer = optimizers.L_BFGS_B(maxiter=20) 
vqe = VQE(var_form, optimizer, quantum_instance=backend) 
vqe_calc = vqe.compute_minimum_eigenvalue( qubit_op) 
vqe_result = problem.interpret(vqe_calc) .total_energies[0].real
