import qiskit_ibm_runtime as nat
print(dir(nat))



