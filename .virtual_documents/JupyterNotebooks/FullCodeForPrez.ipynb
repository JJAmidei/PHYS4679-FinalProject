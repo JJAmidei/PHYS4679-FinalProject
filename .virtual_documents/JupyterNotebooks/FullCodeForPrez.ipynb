from qiskit import transpile, assemble, QuantumCircuit
import qiskit_aer as aer
from scipy.optimize import minimize
import numpy as np
from copy import deepcopy
from qiskit.visualization import plot_histogram
from qiskit.quantum_info import SparsePauliOp, Statevector


M = 5 # number of lattice sites
t = 1.0 # hopping energy
U = 0.1 # Coulomb potential 
Nu = 3 # number of spin-up electrons
Nd = 3 # number of spin-down electrons

S = 3 # number of Trotter-Suzuki steps
theta = np.random.rand(S, 5) # 5 Hamiltonian terms in each step


empty_circuit = QuantumCircuit(2*M) # initialize circuit, 2*M for each spin state per lattice site


# compose quantum circuit

def initial_circuit(circuit, _M, _Nu, _Nd):
    for i in range(_Nu):
        circuit.x(i)
    for i in range(_Nd):
        circuit.x(_M+i)
    return circuit

def ansatz_circuit(circuit, _M, _S, _theta):
    # scale theta based on hopping parameter t and Coulomb energy U
    _theta[:, :4] = -0.5*t*_theta[:, :4] # hopping term
    _theta[:, 4] = U*_theta[:, 4] # interaction term
    for j in range(_S):
        for parity in [0,1]:
            for i in range(_M-1):
                if i%2 == parity:
                    for spin_index in [0, _M]:
                        circuit.cx(spin_index+i, spin_index+i+1)
                        circuit.rx(_theta[j, 2*parity+0], spin_index+i) # theta_j, x(e/o)
                        circuit.h(spin_index+i+1)
                        circuit.cx(spin_index+i+1, spin_index+i)
                        circuit.rx(-_theta[j, 2*parity+1], spin_index+i+1) # theta_j, y(e/o)
                        circuit.cx(spin_index+i+1, spin_index+i)
                        circuit.h(spin_index+i+1)
                        circuit.cx(spin_index+i, spin_index+i+1)
        circuit.barrier()
        for i in range(_M):
            circuit.crz(_theta[j, 4], i, _M+i)
    return circuit

def measurement_circuit(circuit, _M, which_term):
    if which_term == "xe":
        for i in range(_M-1):
            circuit.h(i)
            circuit.h(_M+i)
    elif which_term == "xo":
        for i in range(_M-1):
            circuit.x(i+1)
            circuit.x(_M+i+1)
    elif which_term == "ye":
        for i in range(_M-1):
            circuit.y(i)
            circuit.y(_M+i)
    elif which_term == "yo":
        for i in range(_M-1):
            circuit.y(i+1)
            circuit.y(_M+i+1)
    else:
        pass
    return circuit


# if you run these, you have to go back and run every cell above in order to get the energy value

initial_circuit = initial_circuit(deepcopy(empty_circuit), M, Nu, Nd)
ansatz_circuit = ansatz_circuit(deepcopy(empty_circuit), M, S, theta)
measurement_circuit = measurement_circuit(deepcopy(empty_circuit), M, "xe")


#initial_circuit.draw('mpl')                  
#display(form.decompose().draw("mpl", fold=-1))


#ansatz_circuit.draw('mpl', fold=30) 


#measurement_circuit.draw('mpl')


complete_circuit = initial_circuit.compose(ansatz_circuit).compose(measurement_circuit)


#complete_circuit.draw('mpl', fold=31)


#complete_circuit.remove_final_measurements()
state = Statevector(complete_circuit) 
probs = state.probabilities_dict()  
#print("Exact probabilities:", probs)





def Hubbard_Hamiltonian(M, t, U):
    hamiltonian_terms = []
    qubits_num = 2*M  
    
    # Hopping terms 
    for sigma in [0, M]:  # 0=up, M=down
        for i in range(M-1):       
            xx = SparsePauliOp.from_sparse_list([("XX", [sigma+i, sigma+i+1], -t/2)], num_qubits=qubits_num)
            yy = SparsePauliOp.from_sparse_list([("YY", [sigma+i, sigma+i+1], -t/2)], num_qubits=qubits_num)
            hamiltonian_terms.extend([xx, yy])

    # On-site interaction
    for i in range(M):
        identity = SparsePauliOp.from_sparse_list([("I"*qubits_num, [], U/4)], num_qubits=qubits_num)
        
        z_up = SparsePauliOp.from_sparse_list([("Z", [i], -U/4)], num_qubits=qubits_num)
        z_down = SparsePauliOp.from_sparse_list([("Z", [M+i], -U/4)], num_qubits=qubits_num)
        
        zz = SparsePauliOp.from_sparse_list([("ZZ", [i, M+i], U/4)], num_qubits=qubits_num)
        
        hamiltonian_terms.extend([identity, z_up, z_down, zz])
    
    return sum(hamiltonian_terms).simplify()

M = 5 # number of lattice sites
t = 1.0 # hopping energy
U = 0.1 # Coulomb potential 
hamiltonian = Hubbard_Hamiltonian(M, t, U)
#hamiltonian


'''def get_expectation_value(state, pauli_str, coefficient):
    num_qubits = len(state)
    pauli_op = SparsePauliOp.from_sparse_list([
        (pauli_str, list(range(num_qubits)), coefficient)
    ], num_qubits=num_qubits)
    return state.expectation_value(pauli_op).real

xx_term = get_expectation_value(state, "XXIIIIIIII", -0.5)  # X0X1
yy_term = get_expectation_value(state, "YYIIIIIIII", -0.5)  # Y0Y1 
zz_term = get_expectation_value(state, "ZIIIIZIIII", 0.025) # Z0Z5

print(f"<X0X1> = {xx_term:.4f}")
print(f"<Y0Y1> = {yy_term:.4f}") 
print(f"<Z0Z5> = {zz_term:.4f}")

H_terms = [
    ("XXIIIIIIII", -0.5), ("YYIIIIIIII", -0.5),  # X0X1 + Y0Y1
    ("ZIIIIZIIII", 0.025),                       # Z0Z5
    ("ZIIIIIIIII", -0.025), ("IIIIIZIIII", -0.025)  # Z0 + Z5
]

energy = sum(
    get_expectation_value(state, pauli, coeff)
    for pauli, coeff in H_terms
)
print(f"Total energy: {energy:.6f}")'''


def get_expectation_value(state, pauli_str, coefficient):
    num_qubits = len(state)
    pauli_op = SparsePauliOp.from_sparse_list([
        (pauli_str, list(range(num_qubits)), coefficient)
    ], num_qubits=num_qubits)
    return state.expectation_value(pauli_op)

energy = 0 + 0j
for pauli_label, coeff in zip(hamiltonian.paulis, hamiltonian.coeffs):
    pauli_str = pauli_label.to_label()
    energy += get_expectation_value(state, pauli_str, coeff)

energy_real = energy.real
print(f"Total energy (real part): {energy_real:.6f}")


from qiskit.quantum_info import Statevector
# Assume your circuit is built and executed (or simulator output is available)
complete_circuit.remove_final_measurements()
state = Statevector.from_instruction(complete_circuit)  # Your VQE circuit

# Your Hubbard Hamiltonian as SparsePauliOp, e.g.
hamiltonian = Hubbard_Hamiltonian(M=5, t=1.0, U=0.1)

# Compute expectation value
energy = state.expectation_value(hamiltonian)
print(f"Ground-state energy (real part): {energy.real:.6f}")


from qiskit.quantum_info import SparsePauliOp
import numpy as np

def Hubbard_Hamiltonian(M, t, U):
    """
    Constructs the Hubbard Hamiltonian as a SparsePauliOp.
    
    Parameters:
        M (int): Number of lattice sites
        t (float): Hopping parameter
        U (float): On-site interaction strength
        
    Returns:
        SparsePauliOp: Hamiltonian operator on 2*M qubits
    """
    qubits_num = 2 * M
    terms = []
    
    # Hopping terms: sum over spin sigma = 0 (up), 1 (down)
    for sigma in [0, 1]:
        offset = sigma * M  # spin up at 0..M-1, spin down at M..2M-1
        
        # sum over even i=2k
        for i in range(0, M-1, 2):
            # X_i X_{i+1}
            terms.append(SparsePauliOp.from_sparse_list(
                [("XX", [offset+i, offset+i+1], -t/2)], num_qubits=qubits_num))
            # Y_i Y_{i+1}
            terms.append(SparsePauliOp.from_sparse_list(
                [("YY", [offset+i, offset+i+1], -t/2)], num_qubits=qubits_num))
        
        # sum over odd i=2k+1
        for i in range(1, M-1, 2):
            terms.append(SparsePauliOp.from_sparse_list(
                [("XX", [offset+i, offset+i+1], -t/2)], num_qubits=qubits_num))
            terms.append(SparsePauliOp.from_sparse_list(
                [("YY", [offset+i, offset+i+1], -t/2)], num_qubits=qubits_num))
    
    # On-site interaction terms
    for i in range(M):
        # Identity term
        terms.append(SparsePauliOp.from_sparse_list(
            [("I"*qubits_num, [], U/4)], num_qubits=qubits_num))
        
        # - Z_{i up}
        terms.append(SparsePauliOp.from_sparse_list(
            [("Z", [i], -U/4)], num_qubits=qubits_num))
        
        # - Z_{i down}
        terms.append(SparsePauliOp.from_sparse_list(
            [("Z", [M+i], -U/4)], num_qubits=qubits_num))
        
        # + Z_{i up} Z_{i down}
        terms.append(SparsePauliOp.from_sparse_list(
            [("ZZ", [i, M+i], U/4)], num_qubits=qubits_num))
    
    # Sum all terms
    hamiltonian = sum(terms).simplify()
    return hamiltonian

# Example usage
M = 5
t = 1.0
U = 0.1
H = Hubbard_Hamiltonian(M, t, U)
print(H)

# Assume your circuit is built and executed (or simulator output is available)
complete_circuit.remove_final_measurements()
state = Statevector.from_instruction(complete_circuit)  # Your VQE circuit

# Compute expectation value
energy = state.expectation_value(H)
print(f"Ground-state energy (real part): {energy.real:.6f}")


H.to_matrix()
eigvals = np.linalg.eigvalsh(H.to_matrix())
print(f"Exact ground state energy: {eigvals[0]:.6f}")
#H.to_matrix()


print(f"Statevector norm: {np.linalg.norm(state.data)}")


print(f"Statevector dimension: {len(state.data)}")
print(f"Hamiltonian matrix dimension: {H.to_matrix().shape}")



from qiskit.quantum_info import Statevector

state = Statevector.from_instruction(complete_circuit)  # your optimized VQE circuit

eigvals, eigvecs = np.linalg.eigh(H.to_matrix())
gs_vec = eigvecs[:, 0].copy()  # ground state eigenvector

gs_state = Statevector(gs_vec)
energy_gs = gs_state.expectation_value(H)
print(f"Energy from exact GS vector: {energy_gs.real:.6f}")



