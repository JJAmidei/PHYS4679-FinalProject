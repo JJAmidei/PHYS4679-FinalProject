# seeing qiskit stuff that's availible

import qiskit as qk
print(dir(qk))
print()
import qiskit_aer as aer
print(dir(aer))
print()
import qiskit_ibm_runtime as run
print(dir(run))
print()
import qiskit_ibm_experiment as exp
print(dir(exp))
print()
import qiskit_ibm_provider as pro
print(dir(pro))



































import numpy as np 
from copy import deepcopy
from qiskit import *


M = 5 # number of lattice sites
t = 1.0 # hopping energy
U = 0.1 # Coulomb potential 
Nu = 3 # number of spin-up electrons
Nd = 3 # number of spin-down electrons

S = 3 # number of Trotter-Suzuki steps
theta = np.random.rand(S, 5) # 5 Hamiltonian terms in each step


empty_circuit = QuantumCircuit(2*M) # initialize circuit, 2*M for each spin state per lattice site


# compose quantum circuit

def compose_initial_circuit(circuit, _M, _Nu, _Nd):
    '''
    This function generates the initial wavefunction \psi_I 
    which is the solution to the non-interacting Hamiltonain H_0
    and depends on the filling factor of the system, i.e. Nu and Nd. 
    This function initializes the spin-up electrons on qubits 0 to
    Nu - 1 and the spin-down electrons on qubits M to M + Nd - 1. 
    
    Apply X gates to populate the first Nu qubits (spin-up)
    Apply X gates to the next Nd qubits (spin-down)
    
    Physically, the electrons are being placed into the lowest orbitals of the lattice
    '''
    for i in range(_Nu):
        circuit.x(i)
    for i in range(_Nd):
        circuit.x(_M+i)
    return circuit

def compose_ansatz_circuit(circuit, _M, _S, _theta):
    '''
    This function generates the parameterized ansatz wavfunction. 
    The variational parameters theta are given as an input. 
    '''
    # scale theta based on hopping parameter t and Coulomb energy U
    _theta[:, :4] = -0.5*t*_theta[:, :4] # hopping term
    _theta[:, 4] = U*_theta[:, 4] # interaction term
    # loop over S Trotter-Suzuki steps
    for j in range(_S):
        # XX and YY interactions: loop over even and odd terms
        for parity in [0, 1]: # even and odd parity
            # loop over orbitals
            for i in range(_M-1):
                if i%2 == parity:
                    # loop over spin-up and -down qubits
                    for spin_index in [0, _M]:
                        circuit.cx(spin_index+i, spin_index+i+1)
                        circuit.rx(_theta[j, 2*parity+0], spin_index+i) # theta_j, x(e/o)
                        circuit.h(spin_index+i+1)
                        circuit.cx(spin_index+i+1, spin_index+i)
                        circuit.rx(-_theta[j, 2*parity+1], spin_index+i+1) # theta_j, y(e/o)
                        circuit.cx(spin_index+i+1, spin_index+i)
                        circuit.h(spin_index+i+1)
                        circuit.cx(spin_index+i, spin_index+i+1)
        # barrier
        circuit.barrier()
        # ZZ interactions
        # loop over orbitals
        for i in range(_M):
            circuit.crz(_theta[j, 4], i, _M+i)
    return circuit

def compose_measurement_circuit(circuit, _M, which_term):
    '''
    This function implements the circuit for energy measurement. 
    The argument which_term denotes the Hamiltonian terms:
    xe, xo, ye, yo, and z. 
    '''
    if which_term == "xe":
        for i in range(_M-1):
            circuit.h(i)
            circuit.h(_M+i)
    elif which_term == "xo":
        for i in range(_M-1):
            circuit.x(i+1)
            circuit.x(_M+i+1)
    elif which_term == "ye":
        for i in range(_M-1):
            circuit.y(i)
            circuit.y(_M+i)
    elif which_term == "yo":
        for i in range(_M-1):
            circuit.y(i+1)
            circuit.y(_M+i+1)
    else:
        pass
    return circuit


initial_circuit = compose_initial_circuit(deepcopy(empty_circuit), M, Nu, Nd)
#initial_circuit.draw()                  


ansatz_circuit = compose_ansatz_circuit(deepcopy(empty_circuit), M, S, theta)
#ansatz_circuit.draw() 


measurement_circuit = compose_measurement_circuit(deepcopy(empty_circuit), M, "xe")
#measurement_circuit.draw()


#complete_circuit = initial_circuit + ansatz_circuit + measurement_circuit
complete_circuit = initial_circuit.compose(ansatz_circuit).compose(measurement_circuit)
complete_circuit.draw()


# to get ground energy

H_terms = {
    "xe": -t,
    "xo": -t,
    "ye": -t,
    "yo": -t,
    "z": U
}

def compute_expval(counts, qubits):
    total_shots = sum(counts.values())
    expval = 0
    for bitstring, count in counts.items():
        # Measure parity for specified qubits only
        parity = 1
        for q in qubits:
            if bitstring[::-1][q] == '1':  # Qiskit reverses bitstring
                parity *= -1
        expval += parity * count
    return expval / total_shots






import numpy as np
from copy import deepcopy
from qiskit import QuantumCircuit, transpile
import qiskit_aer as aer
from qiskit.visualization import plot_histogram
from scipy.optimize import minimize


# Parameters
M = 5        # number of lattice sites
t = 1.0      # hopping energy
U = 0.1      # Coulomb potential
Nu = 3       # spin-up electrons
Nd = 3       # spin-down electrons
S = 3        # number of Trotter steps
theta = np.random.rand(S, 5)  # variational parameters

empty_circuit = QuantumCircuit(2*M)

# Initial State
def compose_initial_circuit(circuit, _M, _Nu, _Nd):
    for i in range(_Nu):
        circuit.x(i)
    for i in range(_Nd):
        circuit.x(_M+i)
    return circuit

# Ansatz
def compose_ansatz_circuit(circuit, _M, _S, _theta):
    _theta = deepcopy(_theta)  # avoid modifying input
    _theta[:, :4] = -0.5 * t * _theta[:, :4]
    _theta[:, 4] = U * _theta[:, 4]
    
    for j in range(_S):
        for parity in [0, 1]:  # include both even and odd bonds
            for i in range(_M-1):
                if i % 2 == parity:
                    for spin_index in [0, _M]:  # spin-up and spin-down
                        circuit.cx(spin_index+i, spin_index+i+1)
                        circuit.rx(_theta[j, 2*parity], spin_index+i)
                        circuit.h(spin_index+i+1)
                        circuit.cx(spin_index+i+1, spin_index+i)
                        circuit.rx(-_theta[j, 2*parity+1], spin_index+i+1)
                        circuit.cx(spin_index+i+1, spin_index+i)
                        circuit.h(spin_index+i+1)
                        circuit.cx(spin_index+i, spin_index+i+1)
        circuit.barrier()
        for i in range(_M):
            circuit.crz(_theta[j, 4], i, _M+i)
    return circuit

# Measurement
def compose_measurement_circuit(circuit, _M, which_term):
    if which_term == "xe":
        for i in range(_M-1):
            if i % 2 == 0:
                circuit.h(i)
                circuit.h(_M+i)
    elif which_term == "xo":
        for i in range(_M-1):
            if i % 2 == 1:
                circuit.h(i)
                circuit.h(_M+i)
    elif which_term == "ye":
        for i in range(_M-1):
            if i % 2 == 0:
                circuit.sdg(i)
                circuit.h(i)
                circuit.sdg(_M+i)
                circuit.h(_M+i)
    elif which_term == "yo":
        for i in range(_M-1):
            if i % 2 == 1:
                circuit.sdg(i)
                circuit.h(i)
                circuit.sdg(_M+i)
                circuit.h(_M+i)
    elif which_term == "z":
        pass  # no need for rotation
    return circuit

# Full circuit build
def build_full_circuit(theta, which_term):
    init_circ = compose_initial_circuit(deepcopy(empty_circuit), M, Nu, Nd)
    ansatz_circ = compose_ansatz_circuit(deepcopy(empty_circuit), M, S, theta)
    meas_circ = compose_measurement_circuit(deepcopy(empty_circuit), M, which_term)
    full_circ = init_circ.compose(ansatz_circ).compose(meas_circ)
    full_circ.measure_all()
    return full_circ



# Hamiltonian coefficients
coeffs = {
    "xe": -t,
    "xo": -t,
    "ye": -t,
    "yo": -t,
    "z": U
}

terms = ["xe", "xo", "ye", "yo", "z"]

simulator = aer.AerSimulator()

# Expectation value calculation
def get_expectation(theta):
    energy = 0.0
    for term in terms:
        circ = build_full_circuit(theta, term)
        circ = transpile(circ, simulator)
        result = simulator.run(circ, shots=1024).result()
        counts = result.get_counts()

        # Compute expectation value of Z measurement (basic)
        expval = 0
        for bitstring, count in counts.items():
            parity = (-1)**(bitstring.count('1'))
            expval += parity*count
        expval /= 1024
        
        energy += coeffs[term] * expval
    return energy

# Optimization
initial_theta = np.random.rand(S, 5)
result = minimize(lambda th: get_expectation(th.reshape(S,5)), initial_theta.flatten(), method='COBYLA')

print("Optimal energy:", result.fun)
print("Optimal theta:", result.x.reshape(S,5))






