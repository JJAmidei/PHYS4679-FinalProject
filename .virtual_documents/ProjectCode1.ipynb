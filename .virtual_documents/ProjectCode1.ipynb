# simualtion using qiskit nature to check energy value

from qiskit_nature.second_q.drivers import Psi4Driver
from qiskit_nature.second_q.mappers import ParityMapper
from qiskit_algorithms.minimum_eigensolvers import NumPyMinimumEigensolver

config = """
molecule h2 {0 1
  H  0.0 0.0 0.0
  H  0.0 0.0 0.72
  no_com
  no_reorient
}
set {
  basis sto-3g
  scf_type pk
  reference rhf
}
"""
driver = Psi4Driver(config)
molecule = driver.run()
mapper = ParityMapper()
hamiltonian = mapper.map(molecule.second_q_ops()[0])
solver = NumPyMinimumEigensolver()
result = solver.compute_minimum_eigenvalue(hamiltonian)
real_solution = molecule.interpret(result)
print()
print("Ground state energy (Eh):", real_solution.total_energies[0].real)
print()





import numpy as np
from copy import deepcopy
from scipy.optimize import minimize
import matplotlib.pyplot as plt
import numpy as np
from qiskit import QuantumCircuit, transpile
#from qiskit.circuit import ParameterVector
#from qiskit.circuit.library import EfficientSU2
#from qiskit_algorithms import VQE
#from qiskit_algorithms.optimizers import SPSA
#from qiskit.primitives import Estimator
#from qiskit.quantum_info import SparsePauliOp, Statevector
import qiskit_aer as aer
from copy import deepcopy
#from qiskit.visualization import plot_histogram


# define the lattice
M  = 5    # number of lattice sites 
t  = 1.0  # hopping energy
U  = 0.1  # Coulomb energy
Nu = 3    # number of spin-up electrons 
Nd = 3    # number of spin-down electrons 

# initialize variational parameters 
S = 3                     # number of Trotter-Suzuki steps 
theta = np.random.rand(S, 5)  # 5 Hamiltonian terms in each step 

# initialize the circuit 
empty_circuit = QuantumCircuit(2*M)


def initial_circuit(circuit, M, Nu, Nd):
    for i in range(Nu):
        circuit.x(i) 
    for i in range(Nd): 
        circuit.x(M+i)
    return circuit


initial_circ = initial_circuit(deepcopy(empty_circuit), M, Nu, Nd)


#%pwd
initial_circ.draw('mpl', fold=1)
#initial_circ.draw('mpl', fold=1).savefig('Pictures/initial_circ.pdf', dpi=2000, bbox_inches='tight')


def ansatz_circuit(circuit, M, S, theta): 
    # scale theta based on t and U
    theta[:, :4] = -t/2.0*theta[:, :4]
    theta[:, 4] = U*theta[:, 4]
    # loop over S Trotter-Suzuki steps 
    for j in range(S):
        # XX and YY interactions: loop over even and odd terms
        for parity in [0]:
            # loop over orbitals
            for i in range(M-1):
                if i%2 == parity:
                    # loop over spin up and down qubits
                    for spin_index in [0, M]: 
                        circuit.cx(spin_index+i, spin_index+i+1)
                        circuit.rx(theta[j, 2*parity+0], spin_index+i)    # theta_j,xe(o)
                        circuit.h(spin_index+i+1)
                        circuit.cx(spin_index+i+1, spin_index+i)
                        circuit.rx(-theta[j, 2*parity+1], spin_index+i+1) # theta_j,ye(o)
                        circuit.cx(spin_index+i+1, spin_index+i)
                        circuit.h(spin_index+i+1)
                        circuit.cx(spin_index+i, spin_index+i+1) 
        # barrier
        circuit.barrier()
        # ZZ interactions
        # loop over orbitals
        for i in range(M):
            circuit.crz(theta[j, 4], i, M+i)
    return circuit


ansatz_circ = ansatz_circuit(deepcopy(empty_circuit), M, S, theta)


ansatz_circ.draw('mpl', fold=20)
#ansatz_circ.draw('mpl', fold=20).savefig('Pictures/ansatz_circ.pdf', dpi=2000, bbox_inches='tight')


def measurement_circuit(circuit, M, term):
    if term == "xe": 
        for i in range(M-1):
            circuit.x(i)
            circuit.x(M+i)
    elif term == "xo": 
        for i in range(M-1):
            circuit.x(i+1)
            circuit.x(M+i+1)
    elif term == "ye": 
        for i in range(M-1):
            circuit.y(i)
            circuit.y(M+i)
    elif term == "yo": 
        for i in range(M-1):
            circuit.y(i+1)
            circuit.y(M+i+1)
    else:
        pass
    return circuit 


measurement_circ = measurement_circuit(deepcopy(empty_circuit), M, "xe")


measurement_circ.draw('mpl', fold=1)
#measurement_circ.draw('mpl', fold=1).savefig('Pictures/measurement_circ.pdf', dpi=2000, bbox_inches='tight')


complete_circ = initial_circ.compose(ansatz_circ).compose(measurement_circ)


complete_circ.draw('mpl', fold=22)
#complete_circ.draw('mpl', fold=22).savefig('Pictures/complete_circ.pdf', dpi=2000, bbox_inches='tight')


# run simulation on circuit

# here is where I went wrong. 
# I initially tried to run a generalized simulation
# without remembering that each non z term has its own 
# measurement_circ.

terms = ["xe", "xo", "ye", "yo", "z"]
results = {}
simulator = aer.Aer.get_backend('aer_simulator')

for term in terms:
    circ = deepcopy(empty_circuit)
    circ = initial_circuit(empty_circuit, M, Nu, Nd)
    circ = ansatz_circuit(empty_circuit, M, S, theta)
    circ = measurement_circuit(empty_circuit, M, term)
    circ.measure_all()

    circ = transpile(circ, simulator)
    job = simulator.run(circ, shots=8192)
    result = job.result()
    counts = result.get_counts()
    results[term] = counts    


def expectation_from_counts(counts, pairs, shots=8192):
    exp_val = 0
    for bitstring, count in counts.items():
        bitstring = bitstring.replace(" ", "")
        parity = 0
        for (q1, q2) in pairs:
            b1 = int(bitstring[-1 - q1])
            b2 = int(bitstring[-1 - q2])
            parity *= (-1) ** (b1 ^ b2)
        exp_val += parity * count / shots
    return exp_val
    
def get_pairs(term, M):
    pairs = []
    if term == "xe":
        for i in range(0, M-1, 2):
            pairs.append((i, i+1))       # spin up
            pairs.append((M+1, M+i+1))   # spin down
    elif term == "xo":
        for i in range(1, M-1, 2):
            pairs.append((i, i+1))
            pairs.append((M+1, M+i+1))
    elif term == "ye":
        for i in range(0, M-1, 2):
            pairs.append((i, i+1))
            pairs.append((M+1, M+i+1))
    elif term == "yo":
        for i in range(1, M-1, 2):
            pairs.append((i, i+1))
            pairs.append((M+1, M+i+1))
    return pairs

energy = 0.0
shots = 8192

for term in ["xe", "xo", "ye", "yo"]:
    pairs = get_pairs(term, M)
    exp_val = expectation_from_counts(results[term], pairs, shots)
    if term in ["xe", "xo", "ye", "yo"]:
        energy += (-t/2)*exp_val    # dividing by two here is not correct
                                    # each term contributes 1/4 to the final energy

def expectation_HU(counts, M, U, shots=8192):
    exp = 0
    for bitstring, count in counts.items():
        bitstring = bitstring.replace(" ", "")
        contrib = 0
        for i in range(M):
            zu = 1 if bitstring[-1 - i] == '0' else -1
            zd = 1 if bitstring[-1 - (M + i)] == '0' else -1
            contrib += U/4*(1 - zu - zd + zu*zd)
        exp += contrib*count/shots
    return exp

energy += expectation_HU(results["z"], M, U, shots)

print()
print(f"VQE estimated ground-state energy: {energy} Eh")
print()

# all in all it's suprising that I go a value that is close to the 
# expected ground-state energy. This does not seem to work the majority
# of the time. 
# I've attemped to correct this code in the notebook
# CorrectedProjectCode.ipynb. 









