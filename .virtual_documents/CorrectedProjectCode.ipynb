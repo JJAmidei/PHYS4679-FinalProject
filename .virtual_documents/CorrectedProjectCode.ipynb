


import numpy as np
import matplotlib.pyplot as plt 
from copy import deepcopy
from qiskit import QuantumCircuit, transpile
import qiskit_aer as aer
from qiskit.visualization import plot_histogram
from qiskit.result import Counts
from scipy.optimize import minimize



M = 5 # lattice sites 
t = 1.0 # hopping energy
U = 0.1 # Coulomb energy
Nu = 3 # num spin-up electrons 
Nd = 3 # num spin-down electrons 
S = 3 # num Trotter-Suzuki steps 
theta = np.random.rand(S,5) # randomized variational parameters
num_qubits = 2*M 


empty_circuit = QuantumCircuit(num_qubits)


def initial_circuit(circuit, M, Nu, Nd):
    for i in range(Nu):
        circuit.x(i) 
    for i in range(Nd): 
        circuit.x(M+i)
    return circuit

def ansatz_circuit(circuit, M, S, theta): 
    theta[:, :4] = -t/2.0*theta[:, :4]
    theta[:, 4] = U*theta[:, 4]
    for j in range(S):
        for parity in [0]:
            for i in range(M-1):
                if i%2 == parity:
                    for spin_index in [0, M]: 
                        circuit.cx(spin_index+i, spin_index+i+1)
                        circuit.rx(theta[j, 2*parity+0], spin_index+i)    # theta_j,xe(o)
                        circuit.h(spin_index+i+1)
                        circuit.cx(spin_index+i+1, spin_index+i)
                        circuit.rx(-theta[j, 2*parity+1], spin_index+i+1) # theta_j,ye(o)
                        circuit.cx(spin_index+i+1, spin_index+i)
                        circuit.h(spin_index+i+1)
                        circuit.cx(spin_index+i, spin_index+i+1) 
        circuit.barrier()
        for i in range(M):
            circuit.crz(theta[j, 4], i, M+i)
    return circuit

def measurement_circuit(circuit, M, term):
    if term == "xe": 
        for i in range(M-1):
            circuit.x(i)
            circuit.x(M+i)
    elif term == "xo": 
        for i in range(M-1):
            circuit.x(i+1)
            circuit.x(M+i+1)
    elif term == "ye": 
        for i in range(M-1):
            circuit.y(i)
            circuit.y(M+i)
    elif term == "yo": 
        for i in range(M-1):
            circuit.y(i+1)
            circuit.y(M+i+1)
    else:
        pass
    return circuit 


initial_circ = initial_circuit(deepcopy(empty_circuit), M, Nu, Nd) # prepares initial circuit wavefunction. 


#initial_circ.draw('mpl', fold=1)
#initial_circ.draw('mpl', fold=1).savefig('Pictures/initial_circuit_from_corrected.pdf', dpi=2000, bbox_inches='tight')


ansatz_circ = ansatz_circuit(deepcopy(empty_circuit), M, S, theta) # ansatz wavefunction


#ansatz_circ.draw('mpl', fold=20)
#ansatz_circ.draw('mpl', fold=20).savefig('Pictures/ansatz_circuit_from_corrected.pdf', dpi=2000, bbox_inches='tight')


measurement_circ_xe = measurement_circuit(deepcopy(empty_circuit), M, "xe") # measures only x even terms
measurement_circ_xo = measurement_circuit(deepcopy(empty_circuit), M, "xo") # measures only x odd terms
measurement_circ_ye = measurement_circuit(deepcopy(empty_circuit), M, "ye") # measures only y even terms
measurement_circ_yo = measurement_circuit(deepcopy(empty_circuit), M, "yo") # measures only y odd terms


#measurement_circ_xe.draw('mpl', fold=1)
#measurement_circ_xe.draw('mpl', fold=1).savefig('Pictures/measurement_circuit_xe.pdf', dpi=2000, bbox_inches='tight')
#measurement_circ_xo.draw('mpl', fold=1)
#measurement_circ_xo.draw('mpl', fold=1).savefig('Pictures/measurement_circuit_xo.pdf', dpi=2000, bbox_inches='tight')
#measurement_circ_ye.draw('mpl', fold=1)
#measurement_circ_ye.draw('mpl', fold=1).savefig('Pictures/measurement_circuit_ye.pdf', dpi=2000, bbox_inches='tight')
#measurement_circ_yo.draw('mpl', fold=1)
#measurement_circ_yo.draw('mpl', fold=1).savefig('Pictures/measurement_circuit_yo.pdf', dpi=2000, bbox_inches='tight')


circ_complete_xe = initial_circ.compose(ansatz_circ).compose(measurement_circ_xe)
circ_complete_xo = initial_circ.compose(ansatz_circ).compose(measurement_circ_xo)
circ_complete_ye = initial_circ.compose(ansatz_circ).compose(measurement_circ_ye)
circ_complete_yo = initial_circ.compose(ansatz_circ).compose(measurement_circ_yo)


#circ_complete_xe.draw('mpl', fold=21)
#circ_complete_xe.draw('mpl', fold=21).savefig('Pictures/complete_circuit_xe.pdf', dpi=2000, bbox_inches='tight')
#circ_complete_xo.draw('mpl', fold=21)
#circ_complete_xo.draw('mpl', fold=21).savefig('Pictures/complete_circuit_xo.pdf', dpi=2000, bbox_inches='tight')
#circ_complete_ye.draw('mpl', fold=21)
#circ_complete_ye.draw('mpl', fold=21).savefig('Pictures/complete_circuit_ye.pdf', dpi=2000, bbox_inches='tight')
#circ_complete_yo.draw('mpl', fold=21)
#circ_complete_yo.draw('mpl', fold=21).savefig('Pictures/complete_circuit_yo.pdf', dpi=2000, bbox_inches='tight')


terms = ["xe", "xo", "ye", "yo", "z"]
results = {}
simulator = aer.Aer.get_backend('aer_simulator')

shots = 8192

for term in terms:
    initial_circ = initial_circuit(QuantumCircuit(num_qubits), M, Nu, Nd)
    ansatz_circ = ansatz_circuit(QuantumCircuit(num_qubits), M, S, theta)
    measure_circ = measurement_circuit(QuantumCircuit(num_qubits), M, term)

    full_circ = initial_circ.compose(ansatz_circ).compose(measure_circ)
    full_circ.measure_all()

    transpiled = transpile(full_circ, simulator)
    job = simulator.run(transpiled, shots=shots)
    results[term] = job.result().get_counts()


#plot_histogram(results['xe'])
#plot_histogram(results['xe']).savefig('Pictures/xemeas.pdf', dpi=2000, bbox_inches='tight')
#plot_histogram(results['xo'])
#plot_histogram(results['xo']).savefig('Pictures/xomeas.pdf', dpi=2000, bbox_inches='tight')
#plot_histogram(results['ye'])
#plot_histogram(results['ye']).savefig('Pictures/yemeas.pdf', dpi=2000, bbox_inches='tight')
#plot_histogram(results['yo'])
#plot_histogram(results['yo']).savefig('Pictures/yomeas.pdf', dpi=2000, bbox_inches='tight')
#plot_histogram(results['z'])
#plot_histogram(results['z']).savefig('Pictures/zmeas.pdf', dpi=2000, bbox_inches='tight')


def expectation_from_counts(counts: Counts, pauli_qubits: list[int], shots: int)->float:
    expval = 0
    for bitstring, count in counts.items():
        bits = bitstring[::-1]  # bit order from little-endian to big-endian 
        parity = sum(int(bits[i]) for i in pauli_qubits)%2
        sign = -1 if parity else 1
        expval += sign*count
    return expval/shots


def get_term_qubit_pairs(term, M):
    pairs = []
    if term in ["xe", "ye"]:
        indices = range(0, M - 1, 2)
    elif term in ["xo", "yo"]:
        indices = range(1, M - 1, 2)
    elif term == "z":
        return [(i, M+i) for i in range(M)]  # (up, down) pairs
    else:
        raise ValueError("unknown term")

    spin_offsets = [0, M]
    for spin in spin_offsets:
        for i in indices:
            pairs.append((spin + i, spin + i + 1))
    return pairs


energies = {}
for term in terms:
    counts = results[term]
    qubit_pairs = get_term_qubit_pairs(term, M)
    term_value = 0
    for q1, q2 in qubit_pairs:
        term_value += expectation_from_counts(counts, [q1, q2], shots)
    
    # hopping coeff from Hamiltonian
    if term in ["xe", "xo", "ye", "yo"]:
        term_value *= -t/4
    elif term == "z":
        # z terms
        # (I - Z_up - Z_down + Z_up*Z_down) = 1 - z1 - z2 + z1*z2
        z_value = 0
        for q1, q2 in qubit_pairs:
            exp1 = expectation_from_counts(counts, [q1], shots)
            exp2 = expectation_from_counts(counts, [q2], shots)
            exp12 = expectation_from_counts(counts, [q1, q2], shots)
            z_value += (1 - exp1 - exp2 + exp12)
        term_value = U/4*z_value
    energies[term] = term_value



E_total = sum(energies.values())
print("Energy contributions:", energies)
print("Total energy:", E_total)


def vqe(theta_flat):
    theta = theta_flat.reshape((S, 5))
    results = {}

    for term in terms:
        initial_circ = initial_circuit(QuantumCircuit(num_qubits), M, Nu, Nd)
        ansatz_circ = ansatz_circuit(QuantumCircuit(num_qubits), M, S, theta)
        measure_circ = measurement_circuit(QuantumCircuit(num_qubits), M, term)

        full_circ = initial_circ.compose(ansatz_circ).compose(measure_circ)
        full_circ.measure_all()

        transpiled = transpile(full_circ, simulator)
        job = simulator.run(transpiled, shots=shots)
        results[term] = job.result().get_counts()
    
    total_energy = 0
    for term in terms:
        counts = results[term]
        qubit_pairs = get_term_qubit_pairs(term, M)
        term_value = 0

        if term in ["xe", "xo", "ye", "yo"]:
            for q1, q2 in qubit_pairs:
                term_value += expectation_from_counts(counts, [q1, q2], shots)
            term_value *= -t/4
        elif term == "z":
            z_value = 0
            for q1, q2 in qubit_pairs:
                exp1 = expectation_from_counts(counts, [q1], shots)
                exp2 = expectation_from_counts(counts, [q2], shots)
                exp12 = expectation_from_counts(counts, [q1, q2], shots)
                z_value += (1 - exp1 - exp2 + exp12)
            term_value = (U/4)*z_value
        
        total_energy += term_value
    
    return total_energy



n = 10
ground_states = []
theta_current = theta.copy()

for i in range(n):
    print(f'iteration {i+1}/{n}')
    theta_flat = theta_current.flatten()
    result = minimize(vqe, theta_flat, method='COBYLA')
    ground_states.append(result.fun)
    theta_current = result.x





plt.plot(ground_states)
plt.ylim((-1.699, -1.701))






